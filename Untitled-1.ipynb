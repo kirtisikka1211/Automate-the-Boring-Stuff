{
 "cells": [
  {
   "cell_type": "code",
   "execution_count": 2,
   "metadata": {},
   "outputs": [
    {
     "name": "stdout",
     "output_type": "stream",
     "text": [
      "Greetings!\n"
     ]
    }
   ],
   "source": [
    "spam=int(input())\n",
    "if spam==1:\n",
    "    print(\"Hello\")\n",
    "elif spam==2:\n",
    "    print(\"Howdy\")\n",
    "else:\n",
    "    print(\"Greetings!\")\n"
   ]
  },
  {
   "cell_type": "code",
   "execution_count": null,
   "metadata": {},
   "outputs": [],
   "source": []
  },
  {
   "cell_type": "code",
   "execution_count": 9,
   "metadata": {},
   "outputs": [
    {
     "name": "stdout",
     "output_type": "stream",
     "text": [
      "1\n",
      "2\n",
      "3\n",
      "4\n",
      "5\n",
      "6\n",
      "7\n",
      "8\n",
      "9\n",
      "10\n"
     ]
    }
   ],
   "source": [
    "for i in range(1,11):\n",
    "    print(i)\n"
   ]
  },
  {
   "cell_type": "code",
   "execution_count": 3,
   "metadata": {},
   "outputs": [
    {
     "name": "stdout",
     "output_type": "stream",
     "text": [
      "22\n"
     ]
    }
   ],
   "source": [
    "\n",
    "def collatz(number):\n",
    "    if number%2==0:\n",
    "        c=number//2\n",
    "        print(c)\n",
    "        return c\n",
    "    else:\n",
    "        d=3*number +1\n",
    "        print(d)\n",
    "        return d\n",
    "    \n",
    "        \n",
    "num=int(input(\"enter your number:  \"))\n",
    "x=collatz(num)\n",
    "# print(collatz(x))\n",
    "\n"
   ]
  },
  {
   "cell_type": "code",
   "execution_count": 24,
   "metadata": {},
   "outputs": [],
   "source": [
    "def spam():\n",
    "    a=input()"
   ]
  },
  {
   "cell_type": "code",
   "execution_count": 26,
   "metadata": {},
   "outputs": [
    {
     "data": {
      "text/plain": [
       "'d'"
      ]
     },
     "execution_count": 26,
     "metadata": {},
     "output_type": "execute_result"
    }
   ],
   "source": [
    "spam=['a', 'b', 'c', 'd']\n",
    "spam[int(int('3' * 2) // 11)]"
   ]
  },
  {
   "cell_type": "code",
   "execution_count": 14,
   "metadata": {},
   "outputs": [
    {
     "name": "stdout",
     "output_type": "stream",
     "text": [
      "apples , bananas , tofu , and cats\n"
     ]
    }
   ],
   "source": [
    "spam= ['apples', 'bananas', 'tofu', 'cats']\n",
    "def list_string(list):\n",
    "    newlist=''\n",
    "    last=list[len(list)-1]\n",
    "    leng=int(len(list)-1)\n",
    "    new=list[0:leng]\n",
    "    for stri in new:\n",
    "        newlist=newlist+stri+' , '\n",
    "    print(newlist+ 'and '+last)        \n",
    "    \n",
    "list_string(spam)\n",
    "\n",
    "        \n",
    "        \n"
   ]
  },
  {
   "cell_type": "code",
   "execution_count": 1,
   "metadata": {},
   "outputs": [
    {
     "name": "stdout",
     "output_type": "stream",
     "text": [
      "Unexpected exception formatting exception. Falling back to standard exception\n"
     ]
    },
    {
     "name": "stderr",
     "output_type": "stream",
     "text": [
      "Traceback (most recent call last):\n",
      "  File \"/Users/kirtisikka/Library/Python/3.11/lib/python/site-packages/IPython/core/interactiveshell.py\", line 3433, in run_code\n",
      "    exec(code_obj, self.user_global_ns, self.user_ns)\n",
      "  File \"/var/folders/bz/cwpxfbpn249f6s6tyxm74tdm0000gn/T/ipykernel_1545/3417478029.py\", line -1, in <module>\n",
      "KeyboardInterrupt\n",
      "\n",
      "During handling of the above exception, another exception occurred:\n",
      "\n",
      "Traceback (most recent call last):\n",
      "  File \"/Users/kirtisikka/Library/Python/3.11/lib/python/site-packages/IPython/core/interactiveshell.py\", line 2052, in showtraceback\n",
      "    stb = self.InteractiveTB.structured_traceback(\n",
      "          ^^^^^^^^^^^^^^^^^^^^^^^^^^^^^^^^^^^^^^^^\n",
      "  File \"/Users/kirtisikka/Library/Python/3.11/lib/python/site-packages/IPython/core/ultratb.py\", line 1112, in structured_traceback\n",
      "    return FormattedTB.structured_traceback(\n",
      "           ^^^^^^^^^^^^^^^^^^^^^^^^^^^^^^^^^\n",
      "  File \"/Users/kirtisikka/Library/Python/3.11/lib/python/site-packages/IPython/core/ultratb.py\", line 1006, in structured_traceback\n",
      "    return VerboseTB.structured_traceback(\n",
      "           ^^^^^^^^^^^^^^^^^^^^^^^^^^^^^^^\n",
      "  File \"/Users/kirtisikka/Library/Python/3.11/lib/python/site-packages/IPython/core/ultratb.py\", line 859, in structured_traceback\n",
      "    formatted_exception = self.format_exception_as_a_whole(etype, evalue, etb, number_of_lines_of_context,\n",
      "                          ^^^^^^^^^^^^^^^^^^^^^^^^^^^^^^^^^^^^^^^^^^^^^^^^^^^^^^^^^^^^^^^^^^^^^^^^^^^^^^^^\n",
      "  File \"/Users/kirtisikka/Library/Python/3.11/lib/python/site-packages/IPython/core/ultratb.py\", line 812, in format_exception_as_a_whole\n",
      "    frames.append(self.format_record(r))\n",
      "                  ^^^^^^^^^^^^^^^^^^^^^\n",
      "  File \"/Users/kirtisikka/Library/Python/3.11/lib/python/site-packages/IPython/core/ultratb.py\", line 730, in format_record\n",
      "    result += ''.join(_format_traceback_lines(frame_info.lines, Colors, self.has_colors, lvals))\n",
      "                                              ^^^^^^^^^^^^^^^^\n",
      "  File \"/Users/kirtisikka/Library/Python/3.11/lib/python/site-packages/stack_data/utils.py\", line 144, in cached_property_wrapper\n",
      "    value = obj.__dict__[self.func.__name__] = self.func(obj)\n",
      "                                               ^^^^^^^^^^^^^^\n",
      "  File \"/Users/kirtisikka/Library/Python/3.11/lib/python/site-packages/stack_data/core.py\", line 734, in lines\n",
      "    pieces = self.included_pieces\n",
      "             ^^^^^^^^^^^^^^^^^^^^\n",
      "  File \"/Users/kirtisikka/Library/Python/3.11/lib/python/site-packages/stack_data/utils.py\", line 144, in cached_property_wrapper\n",
      "    value = obj.__dict__[self.func.__name__] = self.func(obj)\n",
      "                                               ^^^^^^^^^^^^^^\n",
      "  File \"/Users/kirtisikka/Library/Python/3.11/lib/python/site-packages/stack_data/core.py\", line 681, in included_pieces\n",
      "    pos = scope_pieces.index(self.executing_piece)\n",
      "                             ^^^^^^^^^^^^^^^^^^^^\n",
      "  File \"/Users/kirtisikka/Library/Python/3.11/lib/python/site-packages/stack_data/utils.py\", line 144, in cached_property_wrapper\n",
      "    value = obj.__dict__[self.func.__name__] = self.func(obj)\n",
      "                                               ^^^^^^^^^^^^^^\n",
      "  File \"/Users/kirtisikka/Library/Python/3.11/lib/python/site-packages/stack_data/core.py\", line 660, in executing_piece\n",
      "    return only(\n",
      "           ^^^^^\n",
      "  File \"/Users/kirtisikka/Library/Python/3.11/lib/python/site-packages/executing/executing.py\", line 190, in only\n",
      "    raise NotOneValueFound('Expected one value, found 0')\n",
      "executing.executing.NotOneValueFound: Expected one value, found 0\n"
     ]
    }
   ],
   "source": [
    "import random\n",
    "numberOfStreaks = 0\n",
    "CoinFlip = []\n",
    "streak = 0\n",
    "for experimentNumber in range(10000):\n",
    "    for i in range(100):\n",
    "        CoinFlip.append(random.randint(0,1))\n",
    "    for i in range(len(CoinFlip)):\n",
    "        if CoinFlip[i] == CoinFlip[i-1]: \n",
    "            streak += 1 \n",
    "        else:\n",
    "            streak = 0\n",
    "\n",
    "        if streak == 6:\n",
    "            numberOfStreaks += 1\n",
    "\n",
    "print('Chance of streak: %s%%' % (numberOfStreaks / 100))"
   ]
  },
  {
   "cell_type": "code",
   "execution_count": 3,
   "metadata": {},
   "outputs": [
    {
     "name": "stdout",
     "output_type": "stream",
     "text": [
      "Enter a name: (blank to quit)\n",
      "I do not have birthday information for kirti\n",
      "What is their birthday?\n",
      "Birthday database updated.\n",
      "Enter a name: (blank to quit)\n",
      "I do not have birthday information for 11\n",
      "What is their birthday?\n",
      "Birthday database updated.\n",
      "Enter a name: (blank to quit)\n",
      "I do not have birthday information for jjj\n",
      "What is their birthday?\n",
      "Birthday database updated.\n",
      "Enter a name: (blank to quit)\n",
      "I do not have birthday information for jj\n",
      "What is their birthday?\n",
      "Birthday database updated.\n",
      "Enter a name: (blank to quit)\n",
      "j is the birthday of jj\n",
      "Enter a name: (blank to quit)\n",
      "jj is the birthday of jjj\n",
      "Enter a name: (blank to quit)\n",
      "I do not have birthday information for j\n",
      "What is their birthday?\n",
      "Birthday database updated.\n",
      "Enter a name: (blank to quit)\n"
     ]
    }
   ],
   "source": [
    "birthdays = {'Alice': 'Apr 1', 'Bob': 'Dec 12', 'Carol': 'Mar 4'}\n",
    "while True:\n",
    "       print('Enter a name: (blank to quit)')\n",
    "       name = input()\n",
    "       if name == '':\n",
    "           break\n",
    "       if name in birthdays:\n",
    "        print(birthdays[name] + ' is the birthday of ' + name)\n",
    "       else:\n",
    "           print('I do not have birthday information for ' + name)\n",
    "           print('What is their birthday?')\n",
    "           bday = input()\n",
    "           birthdays[name] = bday\n",
    "           print('Birthday database updated.')"
   ]
  },
  {
   "cell_type": "code",
   "execution_count": 4,
   "metadata": {},
   "outputs": [],
   "source": [
    "def isValidChessBoard(board):\n",
    "    validcolor='bw'\n",
    "    validspace='123456789'\n",
    "    letters='abcdefgh'\n",
    "    names = ['pawn', 'knight', 'bishop', 'rook', 'queen', 'king']\n",
    "    "
   ]
  },
  {
   "cell_type": "code",
   "execution_count": 4,
   "metadata": {},
   "outputs": [
    {
     "name": "stdout",
     "output_type": "stream",
     "text": [
      "Inventory: \n",
      "1 rope\n",
      "6 torch\n",
      "42 gold coin\n",
      "1 dagger\n",
      "12 arrow\n",
      "Total items are: 62\n"
     ]
    }
   ],
   "source": [
    "stuff = {'rope': 1, 'torch': 6, 'gold coin': 42, 'dagger': 1, 'arrow': 12}\n",
    "\n",
    "def displayInventory(inventory):\n",
    "    print('Inventory: ')\n",
    "    items = 0\n",
    "    for k, v in inventory.items():\n",
    "        items+= v\n",
    "        print(str(v)+ ' ' + k)\n",
    "    print('Total items are: ' + str(items))\n",
    "\n",
    "\n",
    "displayInventory(stuff)\n",
    "    \n"
   ]
  },
  {
   "cell_type": "code",
   "execution_count": 8,
   "metadata": {},
   "outputs": [
    {
     "name": "stdout",
     "output_type": "stream",
     "text": [
      "Inventory: \n",
      "45 gold coin\n",
      "1 rope\n",
      "1 dagger\n",
      "1 ruby\n",
      "Total items are: 48\n"
     ]
    }
   ],
   "source": [
    "def addToInventory(inventory, addedItems):\n",
    "        for i in range(len(addedItems)):\n",
    "            if addedItems[i] in inventory:\n",
    "                inventory[addedItems[i]] = inventory[addedItems[i]] + 1\n",
    "            else:\n",
    "                inventory.setdefault(addedItems[i],1)\n",
    "        return inventory                \n",
    "\n",
    "\n",
    "inv = {'gold coin': 42, 'rope': 1}\n",
    "dragonLoot = ['gold coin', 'dagger', 'gold coin', 'gold coin', 'ruby']\n",
    "inv = addToInventory(inv, dragonLoot)\n",
    "displayInventory(inv)"
   ]
  },
  {
   "cell_type": "code",
   "execution_count": null,
   "metadata": {},
   "outputs": [],
   "source": []
  }
 ],
 "metadata": {
  "kernelspec": {
   "display_name": "Python 3",
   "language": "python",
   "name": "python3"
  },
  "language_info": {
   "codemirror_mode": {
    "name": "ipython",
    "version": 3
   },
   "file_extension": ".py",
   "mimetype": "text/x-python",
   "name": "python",
   "nbconvert_exporter": "python",
   "pygments_lexer": "ipython3",
   "version": "3.11.0"
  },
  "orig_nbformat": 4,
  "vscode": {
   "interpreter": {
    "hash": "aee8b7b246df8f9039afb4144a1f6fd8d2ca17a180786b69acc140d282b71a49"
   }
  }
 },
 "nbformat": 4,
 "nbformat_minor": 2
}
